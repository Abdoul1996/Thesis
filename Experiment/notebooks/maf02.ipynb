{
 "cells": [
  {
   "cell_type": "markdown",
   "id": "10eebfaf",
   "metadata": {},
   "source": [
    "# Minor Allel Frequency to the Alignment "
   ]
  }
 ],
 "metadata": {
  "language_info": {
   "name": "python"
  }
 },
 "nbformat": 4,
 "nbformat_minor": 5
}
