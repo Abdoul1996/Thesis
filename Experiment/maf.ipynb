{
  "cells": [
    {
      "cell_type": "code",
      "execution_count": 2,
      "metadata": {
        "id": "ByoSiaiqVqHK"
      },
      "outputs": [],
      "source": [
        "import numpy as np\n",
        "import glob, os\n",
        "import pandas as pd\n",
        "import matplotlib.pyplot as plt"
      ]
    },
    {
      "cell_type": "code",
      "execution_count": 6,
      "metadata": {
        "id": "3zki23OYVuTX"
      },
      "outputs": [],
      "source": [
        "INPUT_DIR  =\"/Users/921623492/Ecoli_Project/Data/merged_alignment\"\n",
        "OUTPUT_DIR = \"/Users/921623492/Ecoli_Project/Data/MAF_output\"\n",
        "os.makedirs(OUTPUT_DIR, exist_ok=True)"
      ]
    },
    {
      "cell_type": "markdown",
      "metadata": {
        "id": "qC-n1WBUVv8o"
      },
      "source": [
        "### (1) Find all the .npy alignment files in \"alignment\" folder"
      ]
    },
    {
      "cell_type": "code",
      "execution_count": 7,
      "metadata": {
        "id": "OOpVuIz2Vx8F"
      },
      "outputs": [],
      "source": [
        "file_paths = glob.glob(INPUT_DIR+\"/*_pangenome_alignment.npy\")\n",
        "if len(file_paths) == 0:\n",
        "    raise FileNotFoundError(\"No .npy files found in the 'alignment' directory!\")"
      ]
    },
    {
      "cell_type": "code",
      "execution_count": 5,
      "metadata": {},
      "outputs": [
        {
          "name": "stdout",
          "output_type": "stream",
          "text": [
            "/Users/abdoulabdillahi/Desktop/Thesis/Bio_project/Data/gladstone-cip-200/alignment/ERR4036356_pangenome_alignment.npy: shape = (15629,), dtype = object\n",
            "/Users/abdoulabdillahi/Desktop/Thesis/Bio_project/Data/gladstone-cip-200/alignment/ERR4036588_pangenome_alignment.npy: shape = (15629,), dtype = object\n",
            "/Users/abdoulabdillahi/Desktop/Thesis/Bio_project/Data/gladstone-cip-200/alignment/ERR4036700_pangenome_alignment.npy: shape = (15629,), dtype = object\n",
            "/Users/abdoulabdillahi/Desktop/Thesis/Bio_project/Data/gladstone-cip-200/alignment/ERR4034354_pangenome_alignment.npy: shape = (15629,), dtype = object\n"
          ]
        }
      ],
      "source": [
        "for i, p in enumerate(file_paths[:4]):\n",
        "    arr = np.load(p, allow_pickle=True)\n",
        "    print(f\"{p}: shape = {arr.shape}, dtype = {arr.dtype}\")\n"
      ]
    },
    {
      "cell_type": "markdown",
      "metadata": {
        "id": "P2o-VF0AXXsw"
      },
      "source": [
        "## MAF Computation"
      ]
    },
    {
      "cell_type": "code",
      "execution_count": 4,
      "metadata": {
        "id": "ZHs4kbY2XOtK"
      },
      "outputs": [
        {
          "name": "stdout",
          "output_type": "stream",
          "text": [
            "Found 200 files:\n",
            "\n",
            "Summary of lengths:\n",
            "  Min:    15629\n",
            "  25%:    15629.0\n",
            "  Median: 15629.0\n",
            "  75%:    15629.0\n",
            "  Max:    15629\n",
            "  Mean:   15629\n"
          ]
        }
      ],
      "source": [
        "print(f\"Found {len(file_paths)} files:\")\n",
        "\n",
        "# For each file, load and print its length\n",
        "lengths = []\n",
        "for p in file_paths:\n",
        "    arr = np.load(p, allow_pickle=True)\n",
        "    L = arr.shape[0]\n",
        "    lengths.append(L)\n",
        "\n",
        "# Summary stats\n",
        "if lengths:\n",
        "    import statistics\n",
        "    print(\"\\nSummary of lengths:\")\n",
        "    print(\"  Min:   \", min(lengths))\n",
        "    print(\"  25%:   \", statistics.quantiles(lengths, n=4)[0])\n",
        "    print(\"  Median:\", statistics.median(lengths))\n",
        "    print(\"  75%:   \", statistics.quantiles(lengths, n=4)[2])\n",
        "    print(\"  Max:   \", max(lengths))\n",
        "    print(\"  Mean:  \", statistics.mean(lengths))"
      ]
    },
    {
      "cell_type": "code",
      "execution_count": 28,
      "metadata": {},
      "outputs": [
        {
          "data": {
            "text/plain": [
              "'/Users/abdoulabdillahi/Desktop/Thesis/Bio_project/Data/gladstone-cip-200/alignment/ERR4034031_pangenome_alignment.npy'"
            ]
          },
          "execution_count": 28,
          "metadata": {},
          "output_type": "execute_result"
        }
      ],
      "source": [
        "p"
      ]
    },
    {
      "cell_type": "code",
      "execution_count": 29,
      "metadata": {},
      "outputs": [
        {
          "data": {
            "text/plain": [
              "15629"
            ]
          },
          "execution_count": 29,
          "metadata": {},
          "output_type": "execute_result"
        }
      ],
      "source": [
        "L"
      ]
    },
    {
      "cell_type": "code",
      "execution_count": 31,
      "metadata": {},
      "outputs": [
        {
          "data": {
            "text/plain": [
              "(15629,)"
            ]
          },
          "execution_count": 31,
          "metadata": {},
          "output_type": "execute_result"
        }
      ],
      "source": [
        "arr.shape"
      ]
    },
    {
      "cell_type": "code",
      "execution_count": 50,
      "metadata": {},
      "outputs": [
        {
          "data": {
            "text/plain": [
              "264"
            ]
          },
          "execution_count": 50,
          "metadata": {},
          "output_type": "execute_result"
        }
      ],
      "source": [
        "arr = np.load(p, allow_pickle=True)\n",
        "len(arr[15628])"
      ]
    },
    {
      "cell_type": "markdown",
      "metadata": {
        "id": "Otf-WlZpYOxb"
      },
      "source": [
        "### Clearing memory"
      ]
    },
    {
      "cell_type": "code",
      "execution_count": 32,
      "metadata": {
        "id": "0HtIJgY1YRbe"
      },
      "outputs": [],
      "source": [
        "del p, arr, L"
      ]
    },
    {
      "cell_type": "markdown",
      "metadata": {
        "id": "egc0-CzJYScc"
      },
      "source": [
        "### (1) Load files into a 2D array: shape = (n_samples, n_positions)"
      ]
    },
    {
      "cell_type": "markdown",
      "metadata": {
        "id": "4yY4KbZqYUhy"
      },
      "source": [
        "### [Pad to Max length]"
      ]
    },
    {
      "cell_type": "code",
      "execution_count": 33,
      "metadata": {},
      "outputs": [],
      "source": [
        "lengths = []\n",
        "for p in file_paths:\n",
        "    arr = np.load(p, allow_pickle=True)\n",
        "    lengths.append(arr.shape[0])  # record number of SNP positions\n"
      ]
    },
    {
      "cell_type": "code",
      "execution_count": 34,
      "metadata": {
        "id": "MHJUh01rYVvD"
      },
      "outputs": [],
      "source": [
        "max_len = max(lengths )\n",
        "arrays = []\n",
        "for p in file_paths:\n",
        "    arr = np.load(p, allow_pickle=True)\n",
        "    pad = np.full(max_len - arr.shape[0], \"-\", dtype=\"U1\")\n",
        "    arrays.append(np.concatenate([arr, pad]))\n",
        "matrix = np.vstack(arrays)"
      ]
    },
    {
      "cell_type": "code",
      "execution_count": 35,
      "metadata": {},
      "outputs": [
        {
          "data": {
            "text/plain": [
              "(200, 15629)"
            ]
          },
          "execution_count": 35,
          "metadata": {},
          "output_type": "execute_result"
        }
      ],
      "source": [
        "matrix.shape"
      ]
    },
    {
      "cell_type": "markdown",
      "metadata": {
        "id": "W3nJlS9IYX70"
      },
      "source": [
        "### Clearing memory"
      ]
    },
    {
      "cell_type": "code",
      "execution_count": 36,
      "metadata": {
        "id": "ng-1NuvHYXft"
      },
      "outputs": [],
      "source": [
        "del lengths, arrays, pad, arr, file_paths, max_len"
      ]
    },
    {
      "cell_type": "markdown",
      "metadata": {
        "id": "k1Hz98DSYa7J"
      },
      "source": [
        "### [Trim to Min length] --> i AM NOT SURE THIS IS NECESSARY \n"
      ]
    },
    {
      "cell_type": "code",
      "execution_count": null,
      "metadata": {
        "id": "KYEV57ngYcxG"
      },
      "outputs": [],
      "source": [
        "# min_len = min(lengths)\n",
        "# print(\"Trimming all samples to:\", min_len, \"positions\")\n",
        "\n",
        "# # 3) Load & trim each array to that min_len\n",
        "# arrays = [\n",
        "#     np.load(p).astype(\"U1\")[:min_len]\n",
        "#     for p in paths\n",
        "# ]\n",
        "# # Now each arr has shape (min_len,)\n",
        "\n",
        "# # 4) Stack into a 2D matrix: shape = (n_samples, min_len)\n",
        "# matrix = np.vstack(arrays)"
      ]
    },
    {
      "cell_type": "code",
      "execution_count": 37,
      "metadata": {
        "id": "Lgg70N4MYenw"
      },
      "outputs": [
        {
          "name": "stdout",
          "output_type": "stream",
          "text": [
            "Matrix shape: (200, 15629)\n"
          ]
        }
      ],
      "source": [
        "print(\"Matrix shape:\", matrix.shape)"
      ]
    },
    {
      "cell_type": "code",
      "execution_count": 42,
      "metadata": {},
      "outputs": [
        {
          "data": {
            "text/plain": [
              "numpy.ndarray"
            ]
          },
          "execution_count": 42,
          "metadata": {},
          "output_type": "execute_result"
        }
      ],
      "source": [
        "type(matrix[0,0])"
      ]
    },
    {
      "cell_type": "code",
      "execution_count": 66,
      "metadata": {},
      "outputs": [
        {
          "data": {
            "text/plain": [
              "579"
            ]
          },
          "execution_count": 66,
          "metadata": {},
          "output_type": "execute_result"
        }
      ],
      "source": [
        "len(matrix[0,0])"
      ]
    },
    {
      "cell_type": "code",
      "execution_count": 69,
      "metadata": {},
      "outputs": [
        {
          "data": {
            "text/html": [
              "<div>\n",
              "<style scoped>\n",
              "    .dataframe tbody tr th:only-of-type {\n",
              "        vertical-align: middle;\n",
              "    }\n",
              "\n",
              "    .dataframe tbody tr th {\n",
              "        vertical-align: top;\n",
              "    }\n",
              "\n",
              "    .dataframe thead th {\n",
              "        text-align: right;\n",
              "    }\n",
              "</style>\n",
              "<table border=\"1\" class=\"dataframe\">\n",
              "  <thead>\n",
              "    <tr style=\"text-align: right;\">\n",
              "      <th></th>\n",
              "      <th>0</th>\n",
              "      <th>1</th>\n",
              "      <th>2</th>\n",
              "      <th>3</th>\n",
              "      <th>4</th>\n",
              "      <th>5</th>\n",
              "      <th>6</th>\n",
              "      <th>7</th>\n",
              "      <th>8</th>\n",
              "      <th>9</th>\n",
              "      <th>...</th>\n",
              "      <th>15619</th>\n",
              "      <th>15620</th>\n",
              "      <th>15621</th>\n",
              "      <th>15622</th>\n",
              "      <th>15623</th>\n",
              "      <th>15624</th>\n",
              "      <th>15625</th>\n",
              "      <th>15626</th>\n",
              "      <th>15627</th>\n",
              "      <th>15628</th>\n",
              "    </tr>\n",
              "  </thead>\n",
              "  <tbody>\n",
              "    <tr>\n",
              "      <th>0</th>\n",
              "      <td>[a, t, g, t, c, t, a, t, a, c, a, g, a, a, c, ...</td>\n",
              "      <td>[nan, nan, nan, nan, nan, nan, nan, nan, nan, ...</td>\n",
              "      <td>[nan, nan, nan, nan, nan, nan, nan, nan, nan, ...</td>\n",
              "      <td>[nan, nan, nan, nan, nan, nan, nan, nan, nan, ...</td>\n",
              "      <td>[nan, nan, nan, nan, nan, nan, nan, nan, nan, ...</td>\n",
              "      <td>[nan, nan, nan, nan, nan, nan, nan, nan, nan, ...</td>\n",
              "      <td>[nan, nan, nan, nan, nan, nan, nan, nan, nan, ...</td>\n",
              "      <td>[nan, nan, nan, nan, nan, nan, nan, nan, nan, ...</td>\n",
              "      <td>[a, t, g, a, g, t, a, a, g, a, t, t, a, t, c, ...</td>\n",
              "      <td>[nan, nan, nan, nan, nan, nan, nan, nan, nan, ...</td>\n",
              "      <td>...</td>\n",
              "      <td>[nan, nan, nan, nan, nan, nan, nan, nan, nan, ...</td>\n",
              "      <td>[nan, nan, nan, nan, nan, nan, nan, nan, nan, ...</td>\n",
              "      <td>[nan, nan, nan, nan, nan, nan, nan, nan, nan, ...</td>\n",
              "      <td>[nan, nan, nan, nan, nan, nan, nan, nan, nan, ...</td>\n",
              "      <td>[nan, nan, nan, nan, nan, nan, nan, nan, nan, ...</td>\n",
              "      <td>[nan, nan, nan, nan, nan, nan, nan, nan, nan, ...</td>\n",
              "      <td>[a, t, g, t, c, c, c, a, g, a, t, a, g, a, a, ...</td>\n",
              "      <td>[nan, nan, nan, nan, nan, nan, nan, nan, nan, ...</td>\n",
              "      <td>[nan, nan, nan, nan, nan, nan, nan, nan, nan, ...</td>\n",
              "      <td>[nan, nan, nan, nan, nan, nan, nan, nan, nan, ...</td>\n",
              "    </tr>\n",
              "    <tr>\n",
              "      <th>1</th>\n",
              "      <td>[a, t, g, t, c, t, a, t, a, c, a, g, a, a, c, ...</td>\n",
              "      <td>[nan, nan, nan, nan, nan, nan, nan, nan, nan, ...</td>\n",
              "      <td>[nan, nan, nan, nan, nan, nan, nan, nan, nan, ...</td>\n",
              "      <td>[nan, nan, nan, nan, nan, nan, nan, nan, nan, ...</td>\n",
              "      <td>[nan, nan, nan, nan, nan, nan, nan, nan, nan, ...</td>\n",
              "      <td>[nan, nan, nan, nan, nan, nan, nan, nan, nan, ...</td>\n",
              "      <td>[a, t, g, a, a, c, g, t, t, a, t, a, a, a, a, ...</td>\n",
              "      <td>[nan, nan, nan, nan, nan, nan, nan, nan, nan, ...</td>\n",
              "      <td>[a, t, g, a, g, t, a, a, g, a, t, t, a, t, c, ...</td>\n",
              "      <td>[a, t, g, c, c, a, c, t, a, a, t, t, a, t, c, ...</td>\n",
              "      <td>...</td>\n",
              "      <td>[nan, nan, nan, nan, nan, nan, nan, nan, nan, ...</td>\n",
              "      <td>[nan, nan, nan, nan, nan, nan, nan, nan, nan, ...</td>\n",
              "      <td>[nan, nan, nan, nan, nan, nan, nan, nan, nan, ...</td>\n",
              "      <td>[a, t, g, c, g, g, a, a, g, a, g, t, a, t, g, ...</td>\n",
              "      <td>[a, t, g, c, g, g, a, a, g, a, g, t, a, t, g, ...</td>\n",
              "      <td>[-, -, -, -, -, -, -, -, -, -, -, -, -, -, -, ...</td>\n",
              "      <td>[a, t, g, t, c, c, c, a, g, a, t, a, g, a, a, ...</td>\n",
              "      <td>[nan, nan, nan, nan, nan, nan, nan, nan, nan, ...</td>\n",
              "      <td>[nan, nan, nan, nan, nan, nan, nan, nan, nan, ...</td>\n",
              "      <td>[nan, nan, nan, nan, nan, nan, nan, nan, nan, ...</td>\n",
              "    </tr>\n",
              "    <tr>\n",
              "      <th>2</th>\n",
              "      <td>[a, t, g, t, c, t, a, t, a, c, a, g, a, a, c, ...</td>\n",
              "      <td>[nan, nan, nan, nan, nan, nan, nan, nan, nan, ...</td>\n",
              "      <td>[nan, nan, nan, nan, nan, nan, nan, nan, nan, ...</td>\n",
              "      <td>[nan, nan, nan, nan, nan, nan, nan, nan, nan, ...</td>\n",
              "      <td>[nan, nan, nan, nan, nan, nan, nan, nan, nan, ...</td>\n",
              "      <td>[nan, nan, nan, nan, nan, nan, nan, nan, nan, ...</td>\n",
              "      <td>[nan, nan, nan, nan, nan, nan, nan, nan, nan, ...</td>\n",
              "      <td>[nan, nan, nan, nan, nan, nan, nan, nan, nan, ...</td>\n",
              "      <td>[a, t, g, a, g, t, a, a, g, a, t, t, a, t, c, ...</td>\n",
              "      <td>[nan, nan, nan, nan, nan, nan, nan, nan, nan, ...</td>\n",
              "      <td>...</td>\n",
              "      <td>[nan, nan, nan, nan, nan, nan, nan, nan, nan, ...</td>\n",
              "      <td>[nan, nan, nan, nan, nan, nan, nan, nan, nan, ...</td>\n",
              "      <td>[nan, nan, nan, nan, nan, nan, nan, nan, nan, ...</td>\n",
              "      <td>[nan, nan, nan, nan, nan, nan, nan, nan, nan, ...</td>\n",
              "      <td>[nan, nan, nan, nan, nan, nan, nan, nan, nan, ...</td>\n",
              "      <td>[nan, nan, nan, nan, nan, nan, nan, nan, nan, ...</td>\n",
              "      <td>[a, t, g, t, c, c, c, a, g, a, t, a, g, a, a, ...</td>\n",
              "      <td>[a, t, g, c, g, g, c, t, t, g, c, c, c, g, g, ...</td>\n",
              "      <td>[a, t, g, c, a, g, t, t, t, g, t, c, a, t, g, ...</td>\n",
              "      <td>[a, t, g, t, c, g, g, c, c, a, c, t, g, a, g, ...</td>\n",
              "    </tr>\n",
              "  </tbody>\n",
              "</table>\n",
              "<p>3 rows × 15629 columns</p>\n",
              "</div>"
            ],
            "text/plain": [
              "                                               0      \\\n",
              "0  [a, t, g, t, c, t, a, t, a, c, a, g, a, a, c, ...   \n",
              "1  [a, t, g, t, c, t, a, t, a, c, a, g, a, a, c, ...   \n",
              "2  [a, t, g, t, c, t, a, t, a, c, a, g, a, a, c, ...   \n",
              "\n",
              "                                               1      \\\n",
              "0  [nan, nan, nan, nan, nan, nan, nan, nan, nan, ...   \n",
              "1  [nan, nan, nan, nan, nan, nan, nan, nan, nan, ...   \n",
              "2  [nan, nan, nan, nan, nan, nan, nan, nan, nan, ...   \n",
              "\n",
              "                                               2      \\\n",
              "0  [nan, nan, nan, nan, nan, nan, nan, nan, nan, ...   \n",
              "1  [nan, nan, nan, nan, nan, nan, nan, nan, nan, ...   \n",
              "2  [nan, nan, nan, nan, nan, nan, nan, nan, nan, ...   \n",
              "\n",
              "                                               3      \\\n",
              "0  [nan, nan, nan, nan, nan, nan, nan, nan, nan, ...   \n",
              "1  [nan, nan, nan, nan, nan, nan, nan, nan, nan, ...   \n",
              "2  [nan, nan, nan, nan, nan, nan, nan, nan, nan, ...   \n",
              "\n",
              "                                               4      \\\n",
              "0  [nan, nan, nan, nan, nan, nan, nan, nan, nan, ...   \n",
              "1  [nan, nan, nan, nan, nan, nan, nan, nan, nan, ...   \n",
              "2  [nan, nan, nan, nan, nan, nan, nan, nan, nan, ...   \n",
              "\n",
              "                                               5      \\\n",
              "0  [nan, nan, nan, nan, nan, nan, nan, nan, nan, ...   \n",
              "1  [nan, nan, nan, nan, nan, nan, nan, nan, nan, ...   \n",
              "2  [nan, nan, nan, nan, nan, nan, nan, nan, nan, ...   \n",
              "\n",
              "                                               6      \\\n",
              "0  [nan, nan, nan, nan, nan, nan, nan, nan, nan, ...   \n",
              "1  [a, t, g, a, a, c, g, t, t, a, t, a, a, a, a, ...   \n",
              "2  [nan, nan, nan, nan, nan, nan, nan, nan, nan, ...   \n",
              "\n",
              "                                               7      \\\n",
              "0  [nan, nan, nan, nan, nan, nan, nan, nan, nan, ...   \n",
              "1  [nan, nan, nan, nan, nan, nan, nan, nan, nan, ...   \n",
              "2  [nan, nan, nan, nan, nan, nan, nan, nan, nan, ...   \n",
              "\n",
              "                                               8      \\\n",
              "0  [a, t, g, a, g, t, a, a, g, a, t, t, a, t, c, ...   \n",
              "1  [a, t, g, a, g, t, a, a, g, a, t, t, a, t, c, ...   \n",
              "2  [a, t, g, a, g, t, a, a, g, a, t, t, a, t, c, ...   \n",
              "\n",
              "                                               9      ...  \\\n",
              "0  [nan, nan, nan, nan, nan, nan, nan, nan, nan, ...  ...   \n",
              "1  [a, t, g, c, c, a, c, t, a, a, t, t, a, t, c, ...  ...   \n",
              "2  [nan, nan, nan, nan, nan, nan, nan, nan, nan, ...  ...   \n",
              "\n",
              "                                               15619  \\\n",
              "0  [nan, nan, nan, nan, nan, nan, nan, nan, nan, ...   \n",
              "1  [nan, nan, nan, nan, nan, nan, nan, nan, nan, ...   \n",
              "2  [nan, nan, nan, nan, nan, nan, nan, nan, nan, ...   \n",
              "\n",
              "                                               15620  \\\n",
              "0  [nan, nan, nan, nan, nan, nan, nan, nan, nan, ...   \n",
              "1  [nan, nan, nan, nan, nan, nan, nan, nan, nan, ...   \n",
              "2  [nan, nan, nan, nan, nan, nan, nan, nan, nan, ...   \n",
              "\n",
              "                                               15621  \\\n",
              "0  [nan, nan, nan, nan, nan, nan, nan, nan, nan, ...   \n",
              "1  [nan, nan, nan, nan, nan, nan, nan, nan, nan, ...   \n",
              "2  [nan, nan, nan, nan, nan, nan, nan, nan, nan, ...   \n",
              "\n",
              "                                               15622  \\\n",
              "0  [nan, nan, nan, nan, nan, nan, nan, nan, nan, ...   \n",
              "1  [a, t, g, c, g, g, a, a, g, a, g, t, a, t, g, ...   \n",
              "2  [nan, nan, nan, nan, nan, nan, nan, nan, nan, ...   \n",
              "\n",
              "                                               15623  \\\n",
              "0  [nan, nan, nan, nan, nan, nan, nan, nan, nan, ...   \n",
              "1  [a, t, g, c, g, g, a, a, g, a, g, t, a, t, g, ...   \n",
              "2  [nan, nan, nan, nan, nan, nan, nan, nan, nan, ...   \n",
              "\n",
              "                                               15624  \\\n",
              "0  [nan, nan, nan, nan, nan, nan, nan, nan, nan, ...   \n",
              "1  [-, -, -, -, -, -, -, -, -, -, -, -, -, -, -, ...   \n",
              "2  [nan, nan, nan, nan, nan, nan, nan, nan, nan, ...   \n",
              "\n",
              "                                               15625  \\\n",
              "0  [a, t, g, t, c, c, c, a, g, a, t, a, g, a, a, ...   \n",
              "1  [a, t, g, t, c, c, c, a, g, a, t, a, g, a, a, ...   \n",
              "2  [a, t, g, t, c, c, c, a, g, a, t, a, g, a, a, ...   \n",
              "\n",
              "                                               15626  \\\n",
              "0  [nan, nan, nan, nan, nan, nan, nan, nan, nan, ...   \n",
              "1  [nan, nan, nan, nan, nan, nan, nan, nan, nan, ...   \n",
              "2  [a, t, g, c, g, g, c, t, t, g, c, c, c, g, g, ...   \n",
              "\n",
              "                                               15627  \\\n",
              "0  [nan, nan, nan, nan, nan, nan, nan, nan, nan, ...   \n",
              "1  [nan, nan, nan, nan, nan, nan, nan, nan, nan, ...   \n",
              "2  [a, t, g, c, a, g, t, t, t, g, t, c, a, t, g, ...   \n",
              "\n",
              "                                               15628  \n",
              "0  [nan, nan, nan, nan, nan, nan, nan, nan, nan, ...  \n",
              "1  [nan, nan, nan, nan, nan, nan, nan, nan, nan, ...  \n",
              "2  [a, t, g, t, c, g, g, c, c, a, c, t, g, a, g, ...  \n",
              "\n",
              "[3 rows x 15629 columns]"
            ]
          },
          "execution_count": 69,
          "metadata": {},
          "output_type": "execute_result"
        }
      ],
      "source": [
        "df = pd.DataFrame(matrix)\n",
        "df.head()[:3]"
      ]
    },
    {
      "cell_type": "markdown",
      "metadata": {
        "id": "cU5SsSWJYf06"
      },
      "source": [
        "### (2) Define which characters count as “real” bases"
      ]
    },
    {
      "cell_type": "code",
      "execution_count": 88,
      "metadata": {
        "id": "JARiovWWYhe2"
      },
      "outputs": [],
      "source": [
        "real_bases = np.array(['a', 't', 'g', 'c', 'n'])"
      ]
    },
    {
      "cell_type": "code",
      "execution_count": 89,
      "metadata": {},
      "outputs": [
        {
          "data": {
            "text/plain": [
              "(array(['a', 't', 'g', 'c', 'n'], dtype='<U1'), (5,))"
            ]
          },
          "execution_count": 89,
          "metadata": {},
          "output_type": "execute_result"
        }
      ],
      "source": [
        "real_bases, real_bases.shape"
      ]
    },
    {
      "cell_type": "code",
      "execution_count": 93,
      "metadata": {},
      "outputs": [
        {
          "data": {
            "text/plain": [
              "numpy.ndarray"
            ]
          },
          "execution_count": 93,
          "metadata": {},
          "output_type": "execute_result"
        }
      ],
      "source": [
        "type(real_bases)"
      ]
    },
    {
      "cell_type": "markdown",
      "metadata": {
        "id": "kSjUxeRpYiuW"
      },
      "source": [
        "### (3) Count at each position how many As, Ts, Gs, Cs\n",
        "###    counts becomes an array of shape (4, max_len/n_positions)"
      ]
    },
    {
      "cell_type": "code",
      "execution_count": 92,
      "metadata": {},
      "outputs": [
        {
          "name": "stdout",
          "output_type": "stream",
          "text": [
            "<class 'numpy.ndarray'>\n",
            "object\n",
            "<class 'numpy.ndarray'>\n",
            "['a' 't' 'g' 't' 'c' 't' 'a' 't' 'a' 'c' 'a' 'g' 'a' 'a' 'c' 'g' 'a' 'a'\n",
            " 'a' 't' 'g' 'c' 'c' 't' 'g' 'g' 't' 't' 'a' 'c' 'a' 'a' 'c' 'g' 'a' 'a'\n",
            " 'a' 't' 'g' 'a' 'a' 'c' 'c' 'a' 'g' 't' 'a' 't' 'c' 't' 'g' 'a' 'a' 'c'\n",
            " 'c' 'a' 'a' 'c' 'a' 'a' 'g' 'g' 'g' 'a' 'c' 'g' 'g' 'g' 't' 'c' 't' 'g'\n",
            " 'a' 'c' 'c' 'c' 'c' 't' 'g' 'c' 't' 'g' 'a' 'g' 'a' 't' 'g' 'c' 'a' 't'\n",
            " 'g' 'g' 't' 't' 't' 'a' 'a' 't' 'c' 'a' 'g' 't' 'g' 'g' 'g' 'a' 't' 'g'\n",
            " 'a' 't' 'a' 't' 'g' 't' 'g' 'g' 'c' 'g' 'g' 't' 'a' 'a' 'c' 'g' 'a' 't'\n",
            " 'g' 'a' 'c' 'a' 'g' 'c' 't' 'c' 'a' 't' 'g' 'g' 'c' 't' 'g' 'c' 'c' 'g'\n",
            " 'c' 't' 'a' 'c' 't' 't' 'c' 'a' 'c' 'g' 'a' 'c' 'c' 't' 'g' 'a' 'c' 'g'\n",
            " 'a' 'a' 'c' 'g' 'a' 'a' 'g' 'g' 'c' 'a' 't' 'g' 'g' 'c' 't' 't' 't' 'c'\n",
            " 'g' 'g' 't' 'c' 'a' 't' 'g' 'a' 'g' 'c' 't' 'g' 'g' 'c' 'a' 'c' 'a' 'g'\n",
            " 'g' 'c' 'a' 'c' 't' 'g' 'c' 'g' 'c' 'a' 'a' 'a' 'a' 't' 'g' 'c' 'a' 'c'\n",
            " 't' 'c' 't' 'g' 'c' 'c' 'a' 'c' 'c' 'a' 'g' 'c' 'g' 'a' 't' 'g' 'c' 'c'\n",
            " 'c' 't' 'g' 'c' 'a' 'g' 'g' 'a' 't' 'g' 'a' 'c' 'g' 'g' 'c' 't' 't' 'c'\n",
            " 'c' 't' 't' 't' 't' 't' 'c' 'a' 'g' 'c' 't' 't' 't' 'a' 't' 'c' 't' 'g'\n",
            " 'c' 'c' 't' 'g' 'a' 't' 'g' 'g' 'c' 'g' 'a' 't' 'g' 'a' 'c' 'g' 't' 'c'\n",
            " 'a' 'g' 'c' 'g' 't' 't' 't' 't' 'c' 'g' 'a' 't' 'c' 'g' 'g' 'g' 'c' 't'\n",
            " 'g' 'a' 't' 'g' 'c' 'g' 'c' 't' 'g' 'g' 'c' 'a' 'g' 'g' 't' 't' 'g' 'g'\n",
            " 'g' 't' 't' 'a' 'a' 't' 'c' 'a' 'c' 't' 't' 'c' 'c' 't' 'g' 'c' 't' 't'\n",
            " 'g' 'g' 't' 'c' 't' 't' 'g' 'g' 'c' 'g' 't' 't' 'a' 'c' 'g' 'c' 'a' 'a'\n",
            " 'c' 'c' 'g' 'a' 'a' 'g' 'c' 't' 'g' 'g' 'a' 'c' 'a' 'a' 'a' 'g' 't' 'g'\n",
            " 'a' 'c' 'c' 'g' 'g' 'c' 'g' 'a' 'a' 'a' 'c' 'c' 'g' 'g' 't' 'g' 'a' 'a'\n",
            " 'g' 'c' 'c' 'a' 't' 'c' 'g' 'a' 'c' 'g' 'a' 't' 'c' 't' 'g' 'c' 'g' 't'\n",
            " 'a' 'a' 'c' 'a' 't' 'c' 'g' 'c' 'a' 'c' 'a' 'g' 't' 't' 'g' 'g' 'g' 't'\n",
            " 't' 'a' 'c' 'g' 'a' 'c' 'g' 'a' 'a' 'g' 'a' 'c' 'g' 'a' 'a' 'g' 'a' 't'\n",
            " 'c' 'a' 'g' 'g' 'a' 'a' 'g' 'a' 'g' 'c' 't' 't' 'g' 'a' 'a' 'a' 't' 'g'\n",
            " 't' 'c' 'g' 'c' 't' 't' 'g' 'a' 'a' 'g' 'a' 'g' 'a' 't' 'c' 'a' 't' 'c'\n",
            " 'g' 'a' 'g' 't' 'a' 'c' 'g' 't' 'c' 'c' 'g' 't' 'g' 't' 't' 'g' 'c' 'c'\n",
            " 'g' 'c' 'g' 'c' 't' 'g' 't' 't' 'a' 't' 'g' 'c' 'c' 'a' 'c' 'g' 'a' 'c'\n",
            " 'a' 'c' 'c' 't' 't' 't' 'a' 'c' 't' 'c' 'a' 't' 'c' 'c' 'g' 'c' 'a' 'a'\n",
            " 'c' 'c' 'g' 'a' 'c' 't' 'g' 'c' 'g' 'c' 'c' 'a' 'g' 'a' 'a' 'g' 't' 'a'\n",
            " 'c' 'a' 'a' 'a' 'a' 'a' 'c' 'c' 'g' 'a' 'c' 't' 'c' 't' 'a' 'c' 'a' 'c'\n",
            " 't' 'a' 'a']\n"
          ]
        }
      ],
      "source": [
        "print(type(matrix))             # Should be <class 'numpy.ndarray'>\n",
        "print(matrix.dtype)             # What kind of elements?\n",
        "print(type(matrix[0, 0]))       # What's stored in each cell?\n",
        "print(matrix[0, 0])     "
      ]
    },
    {
      "cell_type": "code",
      "execution_count": 95,
      "metadata": {
        "id": "wgev3W7hYmGj"
      },
      "outputs": [
        {
          "ename": "ValueError",
          "evalue": "The truth value of an array with more than one element is ambiguous. Use a.any() or a.all()",
          "output_type": "error",
          "traceback": [
            "\u001b[31m---------------------------------------------------------------------------\u001b[39m",
            "\u001b[31mValueError\u001b[39m                                Traceback (most recent call last)",
            "\u001b[36mCell\u001b[39m\u001b[36m \u001b[39m\u001b[32mIn[95]\u001b[39m\u001b[32m, line 2\u001b[39m\n\u001b[32m      1\u001b[39m counts = np.array([\n\u001b[32m----> \u001b[39m\u001b[32m2\u001b[39m     np.sum(matrix == base, axis=\u001b[32m0\u001b[39m)\n\u001b[32m      3\u001b[39m     \u001b[38;5;28;01mfor\u001b[39;00m base \u001b[38;5;129;01min\u001b[39;00m real_bases\n\u001b[32m      4\u001b[39m ], dtype=\u001b[38;5;28mint\u001b[39m)\n",
            "\u001b[31mValueError\u001b[39m: The truth value of an array with more than one element is ambiguous. Use a.any() or a.all()"
          ]
        }
      ],
      "source": [
        "counts = np.array([\n",
        "    np.sum(matrix == base, axis=0)\n",
        "    for base in real_bases\n",
        "], dtype=int)"
      ]
    },
    {
      "cell_type": "markdown",
      "metadata": {
        "id": "_GznkjMgYm41"
      },
      "source": [
        "### (4) Compute, for each position, the total *valid* calls\n",
        "### (i.e. total counts of A+T+G+C, ignoring N or -)"
      ]
    },
    {
      "cell_type": "code",
      "execution_count": null,
      "metadata": {
        "id": "7cX_D1_qYpY2"
      },
      "outputs": [],
      "source": [
        "total_valid = np.sum(counts, axis=0)  # shape = (max_len/n_positions,)"
      ]
    },
    {
      "cell_type": "markdown",
      "metadata": {
        "id": "RJHeNzb5Yrte"
      },
      "source": [
        "### (5) Compute allele *frequencies* among valid calls\n",
        "### Converting counts → frequencies\n",
        "### freq[b,i] = counts[b,i] / total_valid[i]"
      ]
    },
    {
      "cell_type": "code",
      "execution_count": null,
      "metadata": {
        "id": "VJyMnjJ0YsVE"
      },
      "outputs": [],
      "source": [
        "freqs = counts / total_valid[np.newaxis, :]"
      ]
    },
    {
      "cell_type": "markdown",
      "metadata": {
        "id": "v_RsNz86YthK"
      },
      "source": [
        "### (6) Compute Minor Allele Frequency (MAF) per position:\n",
        "####    - Mask zeros so they don’t count as “minor” alleles\n",
        "####    - Then take the minimum across the 4 real-base frequencies\n",
        "####    - Replace any all-zero columns with MAF=0"
      ]
    },
    {
      "cell_type": "code",
      "execution_count": null,
      "metadata": {
        "id": "AW9VgjGqYvWU"
      },
      "outputs": [],
      "source": [
        "with np.errstate(divide='ignore', invalid='ignore'): # Suppresses warnings for dividing by zero\n",
        "    freqs_masked = np.where(freqs==0, np.nan, freqs) # Any allele with frequency 0 at a position becomes NaN, so they don’t get picked as “minor”\n",
        "    maf = np.nanmin(freqs_masked, axis=0) # Takes the minimum across the four bases ignoring NaNs—so only non-zero frequencies are considered\n",
        "    maf = np.nan_to_num(maf, nan=0.0) # turn NaN back to 0"
      ]
    },
    {
      "cell_type": "code",
      "execution_count": null,
      "metadata": {
        "id": "DnVKAKvBYxa4"
      },
      "outputs": [],
      "source": [
        "plt.figure(figsize=(8, 5))\n",
        "plt.hist(maf, bins=100, edgecolor='black')\n",
        "plt.title(\"Minor Allele Frequency Distribution\")\n",
        "plt.xlabel(\"MAF\")\n",
        "plt.ylabel(\"Number of Positions\")\n",
        "plt.grid(True)\n",
        "plt.tight_layout()\n",
        "plt.show()"
      ]
    },
    {
      "cell_type": "markdown",
      "metadata": {
        "id": "mc_q21_LYzTU"
      },
      "source": [
        "### (7) Apply 5% filter:"
      ]
    },
    {
      "cell_type": "code",
      "execution_count": null,
      "metadata": {
        "id": "Puvqd-dpY0X3"
      },
      "outputs": [],
      "source": [
        "threshold = 1 - 0.05\n",
        "keep_positions = maf < threshold # boolean mask => shape=(max_len/n_positions,)"
      ]
    },
    {
      "cell_type": "code",
      "execution_count": null,
      "metadata": {
        "id": "ZJYYAOnZY2XH"
      },
      "outputs": [],
      "source": [
        "print(f\"Out of {matrix.shape[1]} positions, {keep_positions.sum()} \"\n",
        "      f\"({100*keep_positions.sum()/len(keep_positions):.1f}%) \"\n",
        "      f\"have MAF < {threshold*100:.0f}%\")"
      ]
    },
    {
      "cell_type": "markdown",
      "metadata": {
        "id": "_7Cc4ownY4Q8"
      },
      "source": [
        "### Clear memory"
      ]
    },
    {
      "cell_type": "code",
      "execution_count": null,
      "metadata": {
        "id": "nhwtPdFNY5Ta"
      },
      "outputs": [],
      "source": [
        "del total_valid, freqs_masked, maf, freqs, counts"
      ]
    },
    {
      "cell_type": "markdown",
      "metadata": {
        "id": "eyW8CPzeY5_N"
      },
      "source": [
        "### (8) Subset the matrix to just those columns"
      ]
    },
    {
      "cell_type": "code",
      "execution_count": null,
      "metadata": {
        "id": "NBMxsqlnY71W"
      },
      "outputs": [],
      "source": [
        "filtered_matrix = matrix[:, keep_positions]"
      ]
    },
    {
      "cell_type": "markdown",
      "metadata": {
        "id": "itffRcOdY96k"
      },
      "source": [
        "### (9) Save each sample back out with different filename"
      ]
    },
    {
      "cell_type": "code",
      "execution_count": null,
      "metadata": {
        "id": "bKgW8PKlY_AJ"
      },
      "outputs": [],
      "source": [
        "for p, seq in zip(file_paths, filtered_matrix):\n",
        "    out_path = p.replace(\n",
        "        \".npy\",\n",
        "        f\"_pad{max_len}_MAF{int(threshold*100)}.npy\"\n",
        "    )\n",
        "    np.save(out_path, seq)"
      ]
    }
  ],
  "metadata": {
    "colab": {
      "provenance": []
    },
    "kernelspec": {
      "display_name": "abdoul_thesis",
      "language": "python",
      "name": "python3"
    },
    "language_info": {
      "codemirror_mode": {
        "name": "ipython",
        "version": 3
      },
      "file_extension": ".py",
      "mimetype": "text/x-python",
      "name": "python",
      "nbconvert_exporter": "python",
      "pygments_lexer": "ipython3",
      "version": "3.10.18"
    }
  },
  "nbformat": 4,
  "nbformat_minor": 0
}
