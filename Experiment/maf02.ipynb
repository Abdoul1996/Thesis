{
 "cells": [
  {
   "cell_type": "markdown",
   "id": "10eebfaf",
   "metadata": {},
   "source": [
    "# Minor Allel Frequency to the Alignment "
   ]
  },
  {
   "cell_type": "markdown",
   "id": "a84d6935",
   "metadata": {},
   "source": []
  }
 ],
 "metadata": {
  "language_info": {
   "name": "python"
  }
 },
 "nbformat": 4,
 "nbformat_minor": 5
}
