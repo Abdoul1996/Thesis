{
  "cells": [
    {
      "cell_type": "code",
      "execution_count": 22,
      "id": "c97c920f",
      "metadata": {
        "id": "c97c920f"
      },
      "outputs": [],
      "source": [
        "import pandas as pd\n",
        "import torch\n",
        "from torch.utils.data import Dataset, DataLoader\n",
        "import torch\n",
        "import torch.nn as nn\n",
        "from tqdm import tqdm"
      ]
    },
    {
      "cell_type": "code",
      "execution_count": 23,
      "id": "64f654b8",
      "metadata": {
        "id": "64f654b8"
      },
      "outputs": [],
      "source": [
        "path_to_data = \"/Users/abdoulabdillahi/Desktop/Thesis/Bio_project/200_samples_with_encoded.csv\"\n",
        "NUCLEOTIDE_TO_INT = {'A':0, 'C':1, 'G':2, 'T':3, '-':4, 'N':5}"
      ]
    },
    {
      "cell_type": "code",
      "execution_count": 24,
      "id": "4bfa624a",
      "metadata": {},
      "outputs": [
        {
          "data": {
            "text/plain": [
              "{'A': 0, 'C': 1, 'G': 2, 'T': 3, '-': 4, 'N': 5}"
            ]
          },
          "execution_count": 24,
          "metadata": {},
          "output_type": "execute_result"
        }
      ],
      "source": [
        "NUCLEOTIDE_TO_INT\n"
      ]
    },
    {
      "cell_type": "markdown",
      "id": "f8f254c0",
      "metadata": {
        "id": "f8f254c0"
      },
      "source": [
        "### Dataset class"
      ]
    },
    {
      "cell_type": "code",
      "execution_count": 25,
      "id": "c755b249",
      "metadata": {
        "id": "c755b249"
      },
      "outputs": [],
      "source": [
        "class GeneDataset(Dataset):\n",
        "    def __init__(self, csv_file, label_col='Ciprofloxacin_NS', gene_prefix='gene_', transform=None):\n",
        "        self.df = pd.read_csv(csv_file)\n",
        "        self.label_col = label_col\n",
        "        self.gene_cols = [c for c in self.df.columns if c.startswith(gene_prefix)]\n",
        "        self.transform = transform\n",
        "\n",
        "    def __len__(self):\n",
        "        return len(self.df)\n",
        "\n",
        "    def __getitem__(self, idx):\n",
        "        row = self.df.iloc[idx]\n",
        "        label = int(row[self.label_col])\n",
        "        sequences = []\n",
        "        for col in self.gene_cols:\n",
        "            seq = row[col]\n",
        "            if pd.isna(seq):\n",
        "                # truly missing\n",
        "                sequences.append([])\n",
        "                continue\n",
        "\n",
        "            if isinstance(seq, str) and seq.startswith('[') and seq.endswith(']'):\n",
        "                # strip brackets, split on whitespace\n",
        "                tokens = seq.strip('[]').split()\n",
        "                # drop pure 'nan' tokens\n",
        "                tokens = [t for t in tokens if t.lower() != 'nan']\n",
        "                sequences.append(tokens)\n",
        "            else:\n",
        "                # assume it's already a list/array of chars\n",
        "                sequences.append(list(seq))\n",
        "\n",
        "        sample = {'sequences': sequences, 'label': label}\n",
        "        return self.transform(sample) if self.transform else sample\n",
        "\n",
        "def collate_fn(batch):\n",
        "    labels = torch.tensor([b['label'] for b in batch], dtype=torch.long)\n",
        "    seqs   = [b['sequences'] for b in batch]\n",
        "    B, G = len(seqs), len(seqs[0])\n",
        "    # find max length across each gene, then global\n",
        "    max_lens = [max(len(s[j]) for s in seqs) for j in range(G)]\n",
        "    L_max = max(max_lens)\n",
        "\n",
        "    x = torch.full((B, G, L_max),\n",
        "                   fill_value=NUCLEOTIDE_TO_INT['N'],\n",
        "                   dtype=torch.long)\n",
        "\n",
        "    for i in range(B):\n",
        "        for j in range(G):\n",
        "            for k, nt in enumerate(seqs[i][j]):\n",
        "                x[i, j, k] = NUCLEOTIDE_TO_INT.get(nt.upper(), NUCLEOTIDE_TO_INT['N'])\n",
        "    return x, labels\n"
      ]
    },
    {
      "cell_type": "code",
      "execution_count": 26,
      "id": "7989892c",
      "metadata": {
        "id": "7989892c"
      },
      "outputs": [],
      "source": [
        "train_dataset = GeneDataset(path_to_data)\n",
        "train_dataloader = DataLoader(\n",
        "    train_dataset,\n",
        "    batch_size=2,\n",
        "    shuffle=True,\n",
        "    num_workers=0,\n",
        "    collate_fn=collate_fn\n",
        ")"
      ]
    },
    {
      "cell_type": "markdown",
      "id": "f2a8cd17",
      "metadata": {
        "id": "f2a8cd17"
      },
      "source": [
        "### Simple pytorch NN model"
      ]
    },
    {
      "cell_type": "code",
      "execution_count": 27,
      "id": "5019dc54",
      "metadata": {
        "id": "5019dc54"
      },
      "outputs": [],
      "source": [
        "class GeneClassifier(nn.Module):\n",
        "    def __init__(self,\n",
        "                 num_genes: int,\n",
        "                 vocab_size: int = 6,     # A/C/G/T/-/N → 6 tokens\n",
        "                 embed_dim: int = 16,      # size of nucleotide embedding\n",
        "                 hidden_dim: int = 128,    # MLP hidden size\n",
        "                 num_classes: int = 2):\n",
        "        super().__init__()\n",
        "        self.embed = nn.Embedding(vocab_size, embed_dim, padding_idx=vocab_size-1)\n",
        "        # after embedding: (B, G, L, E) → mean over L → (B, G, E)\n",
        "        self.fc = nn.Sequential(\n",
        "            nn.Linear(num_genes * embed_dim, hidden_dim),\n",
        "            nn.ReLU(inplace=True),\n",
        "            nn.BatchNorm1d(hidden_dim),\n",
        "            nn.Dropout(0.3),\n",
        "            nn.Linear(hidden_dim, num_classes)\n",
        "        )\n",
        "\n",
        "    def forward(self, x):\n",
        "        # x: LongTensor of shape (B, G, L)\n",
        "        B, G, L = x.shape\n",
        "        # embed → (B, G, L, E)\n",
        "        x = self.embed(x)\n",
        "        # mean-pool over L → (B, G, E)\n",
        "        x = x.mean(dim=2)\n",
        "        # flatten genes → (B, G*E)\n",
        "        x = x.view(B, G * x.size(-1))\n",
        "        return self.fc(x)"
      ]
    },
    {
      "cell_type": "markdown",
      "id": "9344bcd6",
      "metadata": {
        "id": "9344bcd6"
      },
      "source": [
        "### Instantiate model, loss, & optimizer"
      ]
    },
    {
      "cell_type": "code",
      "execution_count": 28,
      "id": "934ecc34",
      "metadata": {
        "id": "934ecc34"
      },
      "outputs": [],
      "source": [
        "device = torch.device('cuda' if torch.cuda.is_available() else 'cpu')\n",
        "num_genes = len(train_dataset.gene_cols)\n",
        "model      = GeneClassifier(num_genes).to(device)\n",
        "criterion  = nn.CrossEntropyLoss()\n",
        "optimizer  = torch.optim.Adam(model.parameters(), lr=1e-3)"
      ]
    },
    {
      "cell_type": "code",
      "execution_count": 29,
      "id": "de0aaf1c",
      "metadata": {
        "id": "de0aaf1c",
        "outputId": "788734dd-fedd-4807-df86-417f5ce13822"
      },
      "outputs": [
        {
          "name": "stderr",
          "output_type": "stream",
          "text": [
            "Epoch 1/1:   9%|▉         | 7/77 [02:12<22:07, 18.96s/it]\n"
          ]
        },
        {
          "ename": "KeyboardInterrupt",
          "evalue": "",
          "output_type": "error",
          "traceback": [
            "\u001b[31m---------------------------------------------------------------------------\u001b[39m",
            "\u001b[31mKeyboardInterrupt\u001b[39m                         Traceback (most recent call last)",
            "\u001b[36mCell\u001b[39m\u001b[36m \u001b[39m\u001b[32mIn[29]\u001b[39m\u001b[32m, line 15\u001b[39m\n\u001b[32m     13\u001b[39m logits = model(x_batch)         \u001b[38;5;66;03m# (B, 2)\u001b[39;00m\n\u001b[32m     14\u001b[39m loss   = criterion(logits, y_batch)\n\u001b[32m---> \u001b[39m\u001b[32m15\u001b[39m loss.backward()\n\u001b[32m     16\u001b[39m optimizer.step()\n\u001b[32m     18\u001b[39m \u001b[38;5;66;03m# accumulate loss\u001b[39;00m\n",
            "\u001b[36mFile \u001b[39m\u001b[32m~/miniconda3/envs/ecoli/lib/python3.13/site-packages/torch/_tensor.py:648\u001b[39m, in \u001b[36mTensor.backward\u001b[39m\u001b[34m(self, gradient, retain_graph, create_graph, inputs)\u001b[39m\n\u001b[32m    638\u001b[39m \u001b[38;5;28;01mif\u001b[39;00m has_torch_function_unary(\u001b[38;5;28mself\u001b[39m):\n\u001b[32m    639\u001b[39m     \u001b[38;5;28;01mreturn\u001b[39;00m handle_torch_function(\n\u001b[32m    640\u001b[39m         Tensor.backward,\n\u001b[32m    641\u001b[39m         (\u001b[38;5;28mself\u001b[39m,),\n\u001b[32m   (...)\u001b[39m\u001b[32m    646\u001b[39m         inputs=inputs,\n\u001b[32m    647\u001b[39m     )\n\u001b[32m--> \u001b[39m\u001b[32m648\u001b[39m torch.autograd.backward(\n\u001b[32m    649\u001b[39m     \u001b[38;5;28mself\u001b[39m, gradient, retain_graph, create_graph, inputs=inputs\n\u001b[32m    650\u001b[39m )\n",
            "\u001b[36mFile \u001b[39m\u001b[32m~/miniconda3/envs/ecoli/lib/python3.13/site-packages/torch/autograd/__init__.py:353\u001b[39m, in \u001b[36mbackward\u001b[39m\u001b[34m(tensors, grad_tensors, retain_graph, create_graph, grad_variables, inputs)\u001b[39m\n\u001b[32m    348\u001b[39m     retain_graph = create_graph\n\u001b[32m    350\u001b[39m \u001b[38;5;66;03m# The reason we repeat the same comment below is that\u001b[39;00m\n\u001b[32m    351\u001b[39m \u001b[38;5;66;03m# some Python versions print out the first line of a multi-line function\u001b[39;00m\n\u001b[32m    352\u001b[39m \u001b[38;5;66;03m# calls in the traceback and some print out the last line\u001b[39;00m\n\u001b[32m--> \u001b[39m\u001b[32m353\u001b[39m _engine_run_backward(\n\u001b[32m    354\u001b[39m     tensors,\n\u001b[32m    355\u001b[39m     grad_tensors_,\n\u001b[32m    356\u001b[39m     retain_graph,\n\u001b[32m    357\u001b[39m     create_graph,\n\u001b[32m    358\u001b[39m     inputs,\n\u001b[32m    359\u001b[39m     allow_unreachable=\u001b[38;5;28;01mTrue\u001b[39;00m,\n\u001b[32m    360\u001b[39m     accumulate_grad=\u001b[38;5;28;01mTrue\u001b[39;00m,\n\u001b[32m    361\u001b[39m )\n",
            "\u001b[36mFile \u001b[39m\u001b[32m~/miniconda3/envs/ecoli/lib/python3.13/site-packages/torch/autograd/graph.py:824\u001b[39m, in \u001b[36m_engine_run_backward\u001b[39m\u001b[34m(t_outputs, *args, **kwargs)\u001b[39m\n\u001b[32m    822\u001b[39m     unregister_hooks = _register_logging_hooks_on_whole_graph(t_outputs)\n\u001b[32m    823\u001b[39m \u001b[38;5;28;01mtry\u001b[39;00m:\n\u001b[32m--> \u001b[39m\u001b[32m824\u001b[39m     \u001b[38;5;28;01mreturn\u001b[39;00m Variable._execution_engine.run_backward(  \u001b[38;5;66;03m# Calls into the C++ engine to run the backward pass\u001b[39;00m\n\u001b[32m    825\u001b[39m         t_outputs, *args, **kwargs\n\u001b[32m    826\u001b[39m     )  \u001b[38;5;66;03m# Calls into the C++ engine to run the backward pass\u001b[39;00m\n\u001b[32m    827\u001b[39m \u001b[38;5;28;01mfinally\u001b[39;00m:\n\u001b[32m    828\u001b[39m     \u001b[38;5;28;01mif\u001b[39;00m attach_logging_hooks:\n",
            "\u001b[31mKeyboardInterrupt\u001b[39m: "
          ]
        }
      ],
      "source": [
        "num_epochs = 1\n",
        "for epoch in range(num_epochs):\n",
        "    model.train()\n",
        "    total_loss = 0.0\n",
        "    correct    = 0\n",
        "    total      = 0\n",
        "\n",
        "    for x_batch, y_batch in tqdm(train_dataloader, desc=f\"Epoch {epoch+1}/{num_epochs}\"):\n",
        "        x_batch = x_batch.to(device)    # (B, G, L)\n",
        "        y_batch = y_batch.to(device)    # (B,)\n",
        "\n",
        "        optimizer.zero_grad()\n",
        "        logits = model(x_batch)         # (B, 2)\n",
        "        loss   = criterion(logits, y_batch)\n",
        "        loss.backward()\n",
        "        optimizer.step()\n",
        "\n",
        "        # accumulate loss\n",
        "        batch_size    = x_batch.size(0)\n",
        "        total_loss   += loss.item() * batch_size\n",
        "\n",
        "        # accumulate accuracy\n",
        "        preds         = logits.argmax(dim=1)\n",
        "        correct      += (preds == y_batch).sum().item()\n",
        "        total        += batch_size\n",
        "\n",
        "    avg_loss = total_loss / total\n",
        "    acc      = correct / total\n",
        "\n",
        "    print(f\"Epoch {epoch+1} — avg training loss: {avg_loss:.4f} — training accuracy: {acc:.4%}\")"
      ]
    },
    {
      "cell_type": "code",
      "execution_count": null,
      "id": "c32d4dfc",
      "metadata": {},
      "outputs": [],
      "source": []
    }
  ],
  "metadata": {
    "colab": {
      "provenance": []
    },
    "kernelspec": {
      "display_name": "ecoli",
      "language": "python",
      "name": "python3"
    },
    "language_info": {
      "codemirror_mode": {
        "name": "ipython",
        "version": 3
      },
      "file_extension": ".py",
      "mimetype": "text/x-python",
      "name": "python",
      "nbconvert_exporter": "python",
      "pygments_lexer": "ipython3",
      "version": "3.13.5"
    }
  },
  "nbformat": 4,
  "nbformat_minor": 5
}
